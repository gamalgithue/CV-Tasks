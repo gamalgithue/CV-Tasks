{
 "cells": [
  {
   "cell_type": "code",
   "execution_count": null,
   "id": "b3029add-5871-4520-b4b2-3e6cc784d827",
   "metadata": {},
   "outputs": [],
   "source": [
    "!pip install lightgbm"
   ]
  },
  {
   "cell_type": "code",
   "execution_count": null,
   "id": "a79cc08b-c763-487a-ac2b-9e6969c08ec2",
   "metadata": {},
   "outputs": [],
   "source": [
    "from tensorflow.keras.preprocessing.image import ImageDataGenerator\n",
    "from keras.models import Sequential\n",
    "from keras.layers import Conv2D, MaxPooling2D, Activation, Dropout, Flatten, Dense\n",
    "import lightgbm as lgb\n",
    "from sklearn.metrics import accuracy_score\n",
    "import numpy as np\n",
    "import joblib"
   ]
  },
  {
   "cell_type": "code",
   "execution_count": null,
   "id": "a6d7e5b1-80c0-4fef-8ffc-84b31f9054ed",
   "metadata": {},
   "outputs": [],
   "source": [
    "train_dir = r'D:\\Subject\\Computer Vision\\Sections\\Alzheimer_s Dataset\\Alzheimer_s Dataset\\train'  \n",
    "test_dir = r'D:\\Subject\\Computer Vision\\Sections\\Alzheimer_s Dataset\\Alzheimer_s Dataset\\test' "
   ]
  },
  {
   "cell_type": "code",
   "execution_count": null,
   "id": "74c858bd-a252-495a-ab8c-1185313c9d6a",
   "metadata": {},
   "outputs": [],
   "source": [
    "# Set the input shape\n",
    "input_shape = (128, 128, 3)\n",
    "batch_size = 32"
   ]
  },
  {
   "cell_type": "code",
   "execution_count": null,
   "id": "6f624ac9-9bce-4ae2-a2b4-e0e546810719",
   "metadata": {},
   "outputs": [],
   "source": [
    "# Use ImageDataGenerator for data augmentation\n",
    "data_generator = ImageDataGenerator(rescale=1./255)"
   ]
  },
  {
   "cell_type": "code",
   "execution_count": null,
   "id": "7fe7bc04-b08d-4f25-b298-5c601c084799",
   "metadata": {},
   "outputs": [],
   "source": [
    "# Load the training images\n",
    "train_generator = data_generator.flow_from_directory(\n",
    "    train_dir,\n",
    "    target_size=(input_shape[0], input_shape[1]),\n",
    "    batch_size=batch_size,\n",
    "    class_mode='categorical',\n",
    "    shuffle=False\n",
    ")"
   ]
  },
  {
   "cell_type": "code",
   "execution_count": null,
   "id": "6154fd2f-f7a2-4365-921a-92f1fc4b1a57",
   "metadata": {},
   "outputs": [],
   "source": [
    "# Load the test images\n",
    "test_generator = data_generator.flow_from_directory(\n",
    "    test_dir,\n",
    "    target_size=(input_shape[0], input_shape[1]),\n",
    "    batch_size=batch_size,\n",
    "    class_mode='categorical',\n",
    "    shuffle=False\n",
    ")"
   ]
  },
  {
   "cell_type": "code",
   "execution_count": null,
   "id": "75ed7d92-235c-4f7b-9d03-66c89adbc6f4",
   "metadata": {},
   "outputs": [],
   "source": [
    "# Define the model architecture up to the feature extraction layer\n",
    "model = Sequential([\n",
    "    Conv2D(32, (3, 3), input_shape=input_shape),\n",
    "    Activation('relu'),\n",
    "    MaxPooling2D(pool_size=(2, 2)),\n",
    "    Conv2D(64, (3, 3)),\n",
    "    Activation('relu'),\n",
    "    MaxPooling2D(pool_size=(2, 2)),\n",
    "    Flatten(),\n",
    "    Dense(64),\n",
    "    Activation('relu'),\n",
    "    Dropout(0.5)\n",
    "])"
   ]
  },
  {
   "cell_type": "code",
   "execution_count": null,
   "id": "68292cee-46af-4f25-89bc-c73976c3b001",
   "metadata": {},
   "outputs": [],
   "source": [
    "# Extract features from training images \n",
    "train_features = model.predict(train_generator)\n",
    "train_features = train_features.reshape(train_features.shape[0], -1)  # Flatten features\n",
    "train_labels = train_generator.classes"
   ]
  },
  {
   "cell_type": "code",
   "execution_count": null,
   "id": "8619eafb-347b-4c80-ad5f-cea07b019205",
   "metadata": {},
   "outputs": [],
   "source": [
    "# Extract features from test images \n",
    "test_features = model.predict(test_generator)\n",
    "test_features = test_features.reshape(test_features.shape[0], -1)\n",
    "test_labels = test_generator.classes"
   ]
  },
  {
   "cell_type": "code",
   "execution_count": null,
   "id": "39dee170-b930-4aab-8d10-7094bbab9111",
   "metadata": {},
   "outputs": [],
   "source": [
    "# Use LightGBM \n",
    "lgb_classifier = lgb.LGBMClassifier(\n",
    "    boosting_type='gbdt',  # Use gradient boosting\n",
    "    num_leaves=31,         # Maximum leaves in one tree\n",
    "    max_depth=-1,          # No maximum depth\n",
    "    learning_rate=0.1,     # Step size\n",
    "    n_estimators=100,      # Number of trees\n",
    "    objective='multiclass',    # multi classification\n",
    ")\n",
    "lgb_classifier.fit(train_features, train_labels)"
   ]
  },
  {
   "cell_type": "code",
   "execution_count": null,
   "id": "3fbcf8a8-7d23-476e-99a6-2d8cb9d2b88f",
   "metadata": {},
   "outputs": [],
   "source": [
    "# Make predictions on the test data\n",
    "test_predictions = lgb_classifier.predict(test_features)"
   ]
  },
  {
   "cell_type": "code",
   "execution_count": null,
   "id": "4e7d45cb-a5d2-4c77-8600-89a961724710",
   "metadata": {},
   "outputs": [],
   "source": [
    "# Calculate accuracy\n",
    "test_accuracy = accuracy_score(test_labels, test_predictions)\n",
    "print(f\"Test Accuracy: {test_accuracy * 100:.2f}%\")"
   ]
  },
  {
   "cell_type": "code",
   "execution_count": null,
   "id": "6d0339de-3f28-49ec-98ea-fe97d1703ae0",
   "metadata": {},
   "outputs": [],
   "source": [
    "# Save the Keras CNN model as an .h5 file\n",
    "model.save('cnn_feature_extractor8.h5')"
   ]
  },
  {
   "cell_type": "code",
   "execution_count": null,
   "id": "43346a78-bc49-4114-8e46-7d51acf706f6",
   "metadata": {},
   "outputs": [],
   "source": [
    "# Save the trained LightGBM model\n",
    "joblib.dump(lgb_classifier, 'lgb_classifier.pkl')"
   ]
  },
  {
   "cell_type": "code",
   "execution_count": 51,
   "id": "4fc6da0c-ff68-483c-9130-056a3c036f86",
   "metadata": {
    "scrolled": true
   },
   "outputs": [
    {
     "name": "stderr",
     "output_type": "stream",
     "text": [
      "WARNING:absl:No training configuration found in the save file, so the model was *not* compiled. Compile it manually.\n"
     ]
    },
    {
     "name": "stdout",
     "output_type": "stream",
     "text": [
      "\u001b[1m1/1\u001b[0m \u001b[32m━━━━━━━━━━━━━━━━━━━━\u001b[0m\u001b[37m\u001b[0m \u001b[1m0s\u001b[0m 132ms/step\n",
      "The image is classified as: NonDemented\n"
     ]
    }
   ],
   "source": [
    "from keras.models import load_model\n",
    "import joblib\n",
    "import numpy as np\n",
    "from tensorflow.keras.preprocessing import image\n",
    "\n",
    "# Load the saved models\n",
    "cnn_model = load_model('D:/Computer Vision Tasks/Sec4/LIGHTGBM/cnn_feature_extractor8.h5')\n",
    "dt_classifier = joblib.load('D:/Computer Vision Tasks/Sec4/LIGHTGBM/lgb_classifier.pkl')\n",
    "\n",
    "def classify_image(img_path):\n",
    "    # Load and preprocess the new image\n",
    "    img = image.load_img(img_path, target_size=(128, 128))  # Resize to match the CNN input\n",
    "    img_array = image.img_to_array(img)\n",
    "    img_array = np.expand_dims(img_array, axis=0)  # Add batch dimension\n",
    "    img_array /= 255.0  # Normalize to match the training preprocessing\n",
    "\n",
    "    # Extract features using the CNN model\n",
    "    features = cnn_model.predict(img_array)\n",
    "    features = features.reshape(1, -1)  # Flatten to 1D for lightgbm\n",
    "\n",
    "    # Classify the features with the lightgbm model\n",
    "    prediction = dt_classifier.predict(features)\n",
    "    \n",
    "    # Interpret the prediction\n",
    "    class_labels = {0: 'MildDemented', 1: 'ModerateDemented',2: 'NonDemented',3:'VeryMildDemented'}  # Adjust based on your dataset labels\n",
    "    result = class_labels[prediction[0]]\n",
    "    return result\n",
    "\n",
    "# Test the function with a new image\n",
    "img_path = r'D:\\Subject\\Computer Vision\\Sections\\Alzheimer_s Dataset\\Alzheimer_s Dataset\\test\\NonDemented\\31 (77).jpg'\n",
    "result = classify_image(img_path)\n",
    "print(f\"The image is classified as: {result}\")\n"
   ]
  }
 ],
 "metadata": {
  "kernelspec": {
   "display_name": "Python 3 (ipykernel)",
   "language": "python",
   "name": "python3"
  },
  "language_info": {
   "codemirror_mode": {
    "name": "ipython",
    "version": 3
   },
   "file_extension": ".py",
   "mimetype": "text/x-python",
   "name": "python",
   "nbconvert_exporter": "python",
   "pygments_lexer": "ipython3",
   "version": "3.12.7"
  }
 },
 "nbformat": 4,
 "nbformat_minor": 5
}
