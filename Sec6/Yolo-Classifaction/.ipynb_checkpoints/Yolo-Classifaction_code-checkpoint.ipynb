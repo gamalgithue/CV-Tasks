{
 "cells": [
  {
   "cell_type": "code",
   "execution_count": null,
   "id": "7869840d-63f7-4edd-bf92-92f03a9501bb",
   "metadata": {},
   "outputs": [],
   "source": [
    "from ultralytics import YOLO\n",
    "\n",
    "model = YOLO(\"D:\\\\Subject\\\\Computer Vision\\\\Sections\\\\yolov8n-cls.pt\")  \n",
    "\n",
    "model.train(data= \"D:\\\\Subject\\\\Computer Vision\\\\Sections\\\\Alzheimer_s Dataset\\\\Alzheimer_s Dataset\", epochs=5)"
   ]
  },
  {
   "cell_type": "code",
   "execution_count": null,
   "id": "4e6f0f4c-f03b-4032-a7b5-4505aea4e19b",
   "metadata": {},
   "outputs": [],
   "source": [
    "metrics = model.val()\n",
    "metrics.top1 \n",
    "metrics.top5 "
   ]
  },
  {
   "cell_type": "code",
   "execution_count": null,
   "id": "543fb2e5-016e-4009-aa7a-36398fd0ac3a",
   "metadata": {},
   "outputs": [],
   "source": [
    "results = model.predict(r'D:\\Subject\\Computer Vision\\Sections\\Alzheimer_s Dataset\\Alzheimer_s Dataset\\test\\NonDemented\\31 (77).jpg')\n",
    "if isinstance(results,list) and len(results)>0:\n",
    "    probs=results[0].probs\n",
    "    print(probs.data)\n",
    "else:\n",
    "    print(\"prediction results is not in this format\")"
   ]
  }
 ],
 "metadata": {
  "kernelspec": {
   "display_name": "Python 3 (ipykernel)",
   "language": "python",
   "name": "python3"
  },
  "language_info": {
   "codemirror_mode": {
    "name": "ipython",
    "version": 3
   },
   "file_extension": ".py",
   "mimetype": "text/x-python",
   "name": "python",
   "nbconvert_exporter": "python",
   "pygments_lexer": "ipython3",
   "version": "3.12.7"
  }
 },
 "nbformat": 4,
 "nbformat_minor": 5
}
