{
 "cells": [
  {
   "cell_type": "code",
   "execution_count": null,
   "id": "7869840d-63f7-4edd-bf92-92f03a9501bb",
   "metadata": {},
   "outputs": [],
   "source": []
  }
 ],
 "metadata": {
  "kernelspec": {
   "display_name": "",
   "name": ""
  },
  "language_info": {
   "name": ""
  }
 },
 "nbformat": 4,
 "nbformat_minor": 5
}
